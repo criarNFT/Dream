{
  "nbformat": 4,
  "nbformat_minor": 0,
  "metadata": {
    "colab": {
      "provenance": [],
      "authorship_tag": "ABX9TyM9BjOg3E6D8lCZvz5KxHWb",
      "include_colab_link": true
    },
    "kernelspec": {
      "name": "python3",
      "display_name": "Python 3"
    },
    "language_info": {
      "name": "python"
    },
    "accelerator": "GPU",
    "gpuClass": "standard"
  },
  "cells": [
    {
      "cell_type": "markdown",
      "metadata": {
        "id": "view-in-github",
        "colab_type": "text"
      },
      "source": [
        "<a href=\"https://colab.research.google.com/github/criarNFT/Dream/blob/main/Dream.ipynb\" target=\"_parent\"><img src=\"https://colab.research.google.com/assets/colab-badge.svg\" alt=\"Open In Colab\"/></a>"
      ]
    },
    {
      "cell_type": "code",
      "execution_count": null,
      "metadata": {
        "collapsed": true,
        "id": "iPagfVjyAawt",
        "cellView": "form"
      },
      "outputs": [],
      "source": [
        "#@title\n",
        "!nvidia-smi"
      ]
    },
    {
      "cell_type": "code",
      "source": [
        "#@title\n",
        "%pip install diffusers\n",
        "%pip install transformers scipy ftfy accelerate"
      ],
      "metadata": {
        "collapsed": true,
        "id": "sXKVUbCAGSD1",
        "cellView": "form"
      },
      "execution_count": null,
      "outputs": []
    },
    {
      "cell_type": "code",
      "source": [
        "#@title\n",
        "from diffusers import StableDiffusionPipeline\n",
        "import torch\n",
        "\n",
        "model_id = \"runwayml/stable-diffusion-v1-5\"\n",
        "pipe = StableDiffusionPipeline.from_pretrained( model_id, torch_dtype=torch.float16)\n",
        "pipe = pipe.to(\"cuda\")\n",
        "pipe.safety_checker = lambda images, clip_input: (images, False)\n",
        "print(pipe.device)"
      ],
      "metadata": {
        "collapsed": true,
        "id": "sjuzvmJVHFTk",
        "cellView": "form"
      },
      "execution_count": null,
      "outputs": []
    },
    {
      "cell_type": "code",
      "source": [
        "#@title  { vertical-output: true }\n",
        "prompt = \"an astronaut riding a horse on space.\" #@param {type:\"string\"}\n",
        "negativeprompt = \"\" #@param {type:\"string\"}\n",
        "width = 512 #@param {type:\"slider\", min:512, max:768, step:8}\n",
        "height=512 #@param {type:\"slider\", min:512, max:768, step:8}\n",
        "guidance_scale=8 #@param {type:\"slider\", min:1, max:20, step:1}\n",
        "num_inference_steps = 50 #@param {type:\"slider\", min:15, max:300, step:5}\n",
        "seed=1024 #@param {type:\"integer\"}\n",
        "\n",
        "generator = torch.Generator(\"cuda\").manual_seed(seed)\n",
        "image = pipe(prompt=prompt, negative_prompt=negativeprompt, generator=generator, width=width, height=height, guidance_scale=guidance_scale, num_inference_steps=num_inference_steps).images[0]\n",
        "\n",
        "image"
      ],
      "metadata": {
        "id": "-JcAIhtQHK0s",
        "cellView": "form"
      },
      "execution_count": null,
      "outputs": []
    },
    {
      "cell_type": "code",
      "source": [
        "from PIL import Image\n",
        "\n",
        "def image_grid(imgs, rows, cols):\n",
        "    assert len(imgs) == rows*cols\n",
        "\n",
        "    w, h = imgs[0].size\n",
        "    grid = Image.new('RGB', size=(cols*w, rows*h))\n",
        "    grid_w, grid_h = grid.size\n",
        "    \n",
        "    for i, img in enumerate(imgs):\n",
        "        grid.paste(img, box=(i%cols*w, i//cols*h))\n",
        "    return grid\n",
        "\n",
        "num_cols = 3 #@param {type:\"integer\"}\n",
        "num_rows = 3 #@param {type:\"integer\"}\n",
        "\n",
        "prompt_grid = [prompt] * num_cols\n",
        "negativepromptgrid = [negativeprompt] * num_cols\n",
        "generator = torch.Generator(\"cuda\").manual_seed(seed)\n",
        "\n",
        "all_images = []\n",
        "for i in range(num_rows):\n",
        "  images = pipe(prompt=prompt_grid, negative_prompt=negativepromptgrid, generator=generator, width=width, height=height, guidance_scale=guidance_scale, num_inference_steps=num_inference_steps).images\n",
        "  all_images.extend(images)\n",
        "\n",
        "grid = image_grid(all_images, rows=num_rows, cols=num_cols)\n",
        "grid"
      ],
      "metadata": {
        "id": "yEM1k7J4MDq3",
        "cellView": "form"
      },
      "execution_count": null,
      "outputs": []
    }
  ]
}